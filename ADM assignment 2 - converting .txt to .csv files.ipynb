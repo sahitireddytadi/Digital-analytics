{
 "cells": [
  {
   "cell_type": "code",
   "execution_count": 108,
   "metadata": {},
   "outputs": [
    {
     "name": "stdout",
     "output_type": "stream",
     "text": [
      "/Users/nikitaravindran/Downloads\r\n"
     ]
    }
   ],
   "source": [
    "# check current directory\n",
    "!pwd"
   ]
  },
  {
   "cell_type": "code",
   "execution_count": 2,
   "metadata": {},
   "outputs": [
    {
     "data": {
      "text/plain": [
       "['products_has_options',\n",
       " 'order',\n",
       " 'products',\n",
       " 'products_belong_category',\n",
       " 'product_sold_vendor',\n",
       " 'category',\n",
       " 'orders_has_products',\n",
       " 'orders_paid_creditcard',\n",
       " 'user',\n",
       " 'option',\n",
       " 'user_has_creditcard',\n",
       " 'carts_has_products',\n",
       " 'shoppingcart',\n",
       " 'orders_placed_user',\n",
       " 'vendor']"
      ]
     },
     "execution_count": 2,
     "metadata": {},
     "output_type": "execute_result"
    }
   ],
   "source": [
    "import pandas as pd\n",
    "import numpy as np\n",
    "import os\n",
    "\n",
    "#list the directory content\n",
    "directory = '/Users/nikitaravindran/Downloads/ecommerce-information/'\n",
    "os.listdir(directory)"
   ]
  },
  {
   "cell_type": "code",
   "execution_count": 3,
   "metadata": {},
   "outputs": [],
   "source": [
    "#remove the .txt file extension from file\n",
    "filenames = []\n",
    "for f in os.listdir(directory):\n",
    "    if f.endswith('.txt'):\n",
    "        fullpath = os.path.join(directory,f)\n",
    "        #print(fullpath, fullpath[:-4]+'')\n",
    "        os.rename(fullpath, fullpath[:-4]+'')\n",
    "    filenames.append(f)\n",
    "#filenames"
   ]
  },
  {
   "cell_type": "code",
   "execution_count": 4,
   "metadata": {},
   "outputs": [],
   "source": [
    "#converting .txt file to .csv\n",
    "for i in filenames:\n",
    "    df = pd.read_csv('/Users/nikitaravindran/Downloads/ecommerce-information/{}'.format(i), delimiter='\\t',error_bad_lines=False)\n",
    "    df.to_csv('/Users/nikitaravindran/Downloads/ecommerce-information/{}.csv'.format(i),index=False)"
   ]
  },
  {
   "cell_type": "code",
   "execution_count": null,
   "metadata": {},
   "outputs": [],
   "source": []
  }
 ],
 "metadata": {
  "kernelspec": {
   "display_name": "Python 3",
   "language": "python",
   "name": "python3"
  },
  "language_info": {
   "codemirror_mode": {
    "name": "ipython",
    "version": 3
   },
   "file_extension": ".py",
   "mimetype": "text/x-python",
   "name": "python",
   "nbconvert_exporter": "python",
   "pygments_lexer": "ipython3",
   "version": "3.6.8"
  }
 },
 "nbformat": 4,
 "nbformat_minor": 2
}
